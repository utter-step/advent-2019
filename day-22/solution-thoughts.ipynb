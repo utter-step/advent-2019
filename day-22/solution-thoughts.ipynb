{
 "cells": [
  {
   "cell_type": "markdown",
   "metadata": {},
   "source": [
    "# Day-22\n",
    "\n",
    "## Part 2\n",
    "\n",
    "`x` — card position (0-based)\n",
    "`D` — deck size\n",
    "\n",
    "### Movements\n",
    "\n",
    "#### deal into new stack\n",
    "$$f(x) = (D - x - 1) \\mod D = (-x - 1) \\mod D$$\n",
    "\n",
    "#### cut $N$\n",
    "$$g(x, N) = (x - N) \\mod D$$\n",
    "\n",
    "#### deal with increment $M$\n",
    "$$h(x, M) = xM \\mod D$$\n",
    "\n",
    "### Observations\n",
    "\n",
    "1. $f(f(x)) = f(x)$\n",
    "1. $f(x) = g(h(x, -1), 1)$\n",
    "1. $g(g(x, N_1), N_2 = g((x - N_1) \\mod D, N_2) = (((x - N_1) \\mod D) - N_2) \\mod D = (x - N_1 - N_2) \\mod D = g(x, (N_1 + N_2) \\mod D)$\n",
    "1. $h(h(x, M_1), M_2) = h(xM_1 \\mod D, M_2) = (xM_1 \\mod D) \\cdot M_2 \\mod D = x \\cdot (M_1 \\cdot M_2 \\mod D) \\mod D = h(x, M_1 \\cdot M_2 \\mod D)$\n",
    "1. $g(h(x, M), N) = g(xM \\mod D, N) = (xM \\mod D) - N \\mod D = (xM - N) \\mod D$\n",
    "1. $h(g(x, N), M) = h((x - N) \\mod D, M) = ((x - N) \\mod D) \\cdot M \\mod D = (xM - NM) \\mod D = g(h(x, M), NM)$\n",
    "\n",
    "### Key thought\n",
    "\n",
    "looks like the whole shuffle is just $F(x) = (xM + N) \\mod D$!"
   ]
  },
  {
   "cell_type": "markdown",
   "metadata": {},
   "source": [
    "### Replacements\n",
    "\n",
    "based on observation number\n",
    "\n",
    "* `1` => (deal into new stack, deal into new stack) => $\\emptyset$\n",
    "* `2` => deal into new stack -> deal with increment $-1$\n",
    "* `3` => (cut $N_1$, cut $N_2$) -> cut $(N_1 + N_2) \\mod D$ \n",
    "* `4` => (deal with increment $M_1$, deal_with_increment $M_2$) -> deal with increment $M_1 \\cdot M_2 \\mod D$\n",
    "* `6` => (cut $N$, deal with increment $M$) -> (deal with increment $M$, cut $N \\cdot M \\mod D$)"
   ]
  },
  {
   "cell_type": "markdown",
   "metadata": {},
   "source": [
    "Let's check the [key thought](#Key-thought)!"
   ]
  },
  {
   "cell_type": "code",
   "execution_count": 57,
   "metadata": {},
   "outputs": [],
   "source": [
    "#[derive(Debug)]\n",
    "/// xM + N\n",
    "struct Model {\n",
    "    n: i64,\n",
    "    m: i64,\n",
    "    deck: i64,\n",
    "}\n",
    "\n",
    "impl Model {\n",
    "    fn new(deck: i64) -> Self {\n",
    "        Self {\n",
    "            n: 0,\n",
    "            m: 1,\n",
    "            deck,\n",
    "        }\n",
    "    }\n",
    "    \n",
    "    fn cut(&mut self, n: i64) {\n",
    "        self.n = (self.n - n) % self.deck;\n",
    "    }\n",
    "    \n",
    "    fn deal_in(&mut self) {\n",
    "        self.deal_inc(-1);\n",
    "        self.cut(1);\n",
    "    }\n",
    "    \n",
    "    fn deal_inc(&mut self, inc: i64) {\n",
    "        self.m = (self.m * inc) % self.deck;\n",
    "        self.n = (self.n * inc) % self.deck;\n",
    "    }\n",
    "    \n",
    "    fn eval(&self, x: i64) -> i64 {\n",
    "        (x as i128 * self.m as i128 + self.n as i128).rem_euclid(self.deck as i128) as i64\n",
    "    }\n",
    "    \n",
    "    fn shuffle(&self) -> Vec<i64> {\n",
    "        let mut with_order = (0..self.deck)\n",
    "            .map(|n| (n, self.eval(n)))\n",
    "            .collect::<Vec<_>>();\n",
    "        \n",
    "        with_order.sort_unstable_by_key(|(_n, order)| *order);\n",
    "        \n",
    "        with_order.into_iter().map(|(n, _order)| n).collect()\n",
    "    }\n",
    "}"
   ]
  },
  {
   "cell_type": "code",
   "execution_count": 12,
   "metadata": {},
   "outputs": [
    {
     "data": {
      "text/plain": [
       "[0, 1, 2, 3, 4, 5, 6, 7, 8, 9]"
      ]
     },
     "execution_count": 12,
     "metadata": {},
     "output_type": "execute_result"
    }
   ],
   "source": [
    "let mut m = Model::new(10);\n",
    "m.deal_in();\n",
    "m.deal_in();\n",
    "\n",
    "m.shuffle()"
   ]
  },
  {
   "cell_type": "code",
   "execution_count": 47,
   "metadata": {},
   "outputs": [
    {
     "data": {
      "text/plain": [
       "[6, 3, 0, 7, 4, 1, 8, 5, 2, 9]"
      ]
     },
     "execution_count": 47,
     "metadata": {},
     "output_type": "execute_result"
    }
   ],
   "source": [
    "// deal with increment 7\n",
    "// deal with increment 9\n",
    "// cut -2\n",
    "// Result: 6 3 0 7 4 1 8 5 2 9\n",
    "\n",
    "let mut m = Model::new(10);\n",
    "m.deal_inc(7);\n",
    "m.deal_inc(9);\n",
    "m.cut(-2);\n",
    "\n",
    "m.shuffle()"
   ]
  },
  {
   "cell_type": "code",
   "execution_count": 52,
   "metadata": {},
   "outputs": [
    {
     "data": {
      "text/plain": [
       "[3, 0, 7, 4, 1, 8, 5, 2, 9, 6]"
      ]
     },
     "execution_count": 52,
     "metadata": {},
     "output_type": "execute_result"
    }
   ],
   "source": [
    "// cut 6\n",
    "// deal with increment 7\n",
    "// deal into new stack\n",
    "// Result: 3 0 7 4 1 8 5 2 9 6\n",
    "\n",
    "let mut m = Model::new(10);\n",
    "m.cut(6);\n",
    "m.deal_inc(7);\n",
    "m.deal_in();\n",
    "\n",
    "m.shuffle()"
   ]
  },
  {
   "cell_type": "code",
   "execution_count": 49,
   "metadata": {
    "scrolled": true
   },
   "outputs": [
    {
     "data": {
      "text/plain": [
       "[9, 2, 5, 8, 1, 4, 7, 0, 3, 6]"
      ]
     },
     "execution_count": 49,
     "metadata": {},
     "output_type": "execute_result"
    }
   ],
   "source": [
    "// deal into new stack\n",
    "// cut -2\n",
    "// deal with increment 7\n",
    "// cut 8\n",
    "// cut -4\n",
    "// deal with increment 7\n",
    "// cut 3\n",
    "// deal with increment 9\n",
    "// deal with increment 3\n",
    "// cut -1\n",
    "// Result: 9 2 5 8 1 4 7 0 3 6\n",
    "\n",
    "let mut m = Model::new(10);\n",
    "m.deal_in();\n",
    "m.cut(-2);\n",
    "m.deal_inc(7);\n",
    "m.cut(8);\n",
    "m.cut(-4);\n",
    "m.deal_inc(7);\n",
    "m.cut(3);\n",
    "m.deal_inc(9);\n",
    "m.deal_inc(3);\n",
    "m.cut(-1);\n",
    "\n",
    "m.shuffle()"
   ]
  },
  {
   "cell_type": "markdown",
   "metadata": {},
   "source": [
    "Yaay!!!"
   ]
  },
  {
   "cell_type": "markdown",
   "metadata": {},
   "source": [
    "### What's left\n",
    "\n",
    "What does it mean to apply model N times? (all equalities are $\\pmod D$)\n",
    "\n",
    "* $F(F(x)) = F(xM + N) = (((xM + N)) \\cdot M + N)$\n",
    "* => $F(F(x)) = (xM + N) * M + N)$\n",
    "* => $F(F(x)) = xM^2 + M \\cdot (N + 1)$\n",
    "* ...\n",
    "* => F(...) recursively applied $n$ times = $x \\cdot M^n + N \\cdot M^{n-1} + N \\cdot M^{n-2} + ... + N$  \n",
    "  $= x \\cdot M^n + N \\cdot (M^0 + M^1 + M^2 + ... + M^{n - 1})$  \n",
    "  $= x \\cdot M^n + N \\cdot (\\frac{M^{n} - 1}{M - 1})$\n",
    "\n",
    "#### Interesting problems\n",
    "\n",
    "While computing sum of powers of $M$ we can't just do $\\frac{M^{n} - 1}{M - 1}$ as we're in the modular arithmetics.\n",
    "\n",
    "After spending some time grieving, I understood the we just have to find $(M - 1)^{-1} \\pmod{D}$ — an inverse modular root for $M - 1$ in field $D$, and then do $(M^{n} - 1) \\cdot (M - 1)^{-1} \\pmod{D}$ (spoiler: this \"inverse modular root\" approach is going to be of use one more time later). "
   ]
  },
  {
   "cell_type": "code",
   "execution_count": 152,
   "metadata": {},
   "outputs": [
    {
     "data": {
      "text/plain": [
       "116122951247704"
      ]
     },
     "execution_count": 152,
     "metadata": {},
     "output_type": "execute_result"
    }
   ],
   "source": [
    "let model_in_question = Model { n: 43440179824106, m: -56568781986389, deck: 119315717514047 };\n",
    "\n",
    "#[inline(always)]\n",
    "fn mult128(x: i64, y: i64, modulo: i64) -> i64 { \n",
    "    ((x as i128 * y as i128).rem_euclid(modulo as i128)) as i64\n",
    "}\n",
    "\n",
    "fn sum_of_pows_naive(x: i64, pow_to: usize, modulo: i64) -> i64 {\n",
    "    let mut cur = 1;\n",
    "    let mut s: i64 = 0;\n",
    "\n",
    "    for _ in 0..=pow_to {\n",
    "        s = (s + cur).rem_euclid(modulo);\n",
    "        cur = mult128(cur, x, modulo);\n",
    "    }\n",
    "\n",
    "    s\n",
    "}\n",
    "\n",
    "fn bin_pow(mut x: i64, mut pow_to: usize, modulo: i64) -> i64 {\n",
    "    let mut res = 1;\n",
    "    while pow_to > 0 {\n",
    "        if pow_to & 1 == 1 {\n",
    "            res = mult128(res, x, modulo);\n",
    "        }\n",
    "        x = mult128(x, x, modulo);\n",
    "        pow_to >>= 1;\n",
    "    }\n",
    "    res\n",
    "}\n",
    "\n",
    "struct GcdSolution {\n",
    "    gcd: i64,\n",
    "    x: i64,\n",
    "    y: i64,\n",
    "}\n",
    "\n",
    "/// function extended_gcd(a, b)\n",
    "//     (old_r, r) := (a, b)\n",
    "//     (old_s, s) := (1, 0)\n",
    "//     (old_t, t) := (0, 1)\n",
    "    \n",
    "//     while r ≠ 0 do\n",
    "//         quotient := old_r div r\n",
    "//         (old_r, r) := (r, old_r − quotient × r)\n",
    "//         (old_s, s) := (s, old_s − quotient × s)\n",
    "//         (old_t, t) := (t, old_t − quotient × t)\n",
    "    \n",
    "//     output \"Bézout coefficients:\", (old_s, old_t)\n",
    "//     output \"greatest common divisor:\", old_r\n",
    "//     output \"quotients by the gcd:\", (t, s)\n",
    "fn gcd_extended(a: i64, b: i64) -> GcdSolution {\n",
    "    let mut old_r = a;\n",
    "    let mut r = b;\n",
    "    \n",
    "    let mut old_s = 1;\n",
    "    let mut s = 0;\n",
    "    \n",
    "    let mut old_t = 0;\n",
    "    let mut t = 1;\n",
    "    \n",
    "    while r != 0 {\n",
    "        let quot = old_r / r;\n",
    "        \n",
    "        let r_temp = r;\n",
    "        r = old_r - quot * r;\n",
    "        old_r = r_temp;\n",
    "        \n",
    "        let s_temp = s;\n",
    "        s = old_s - quot * s;\n",
    "        old_s = s_temp;\n",
    "        \n",
    "        let t_temp = t;\n",
    "        t = old_t - quot * t;\n",
    "        old_t = t_temp;\n",
    "    }\n",
    "    \n",
    "    GcdSolution {\n",
    "        x: old_s,\n",
    "        y: old_t,\n",
    "        gcd: old_r,\n",
    "    }\n",
    "}\n",
    "\n",
    "fn inverse_mod_root(n: i64, modulo: i64) -> i64 {\n",
    "    let gcd_extended = gcd_extended(n, modulo);\n",
    "    let gcd = gcd_extended.gcd;\n",
    "    assert_eq!(gcd.abs(), 1, \"numbers must be coprime for this method to work!\");\n",
    "    \n",
    "    let x = gcd_extended.x * gcd;\n",
    "    (x.rem_euclid(modulo) + modulo).rem_euclid(modulo)\n",
    "}\n",
    "\n",
    "/// \"a\" for analytics\n",
    "fn sum_of_pows_a(x: i64, pow_to: usize, modulo: i64) -> i64 {\n",
    "    let root = inverse_mod_root(x - 1, modulo);\n",
    "    \n",
    "    mult128(bin_pow(x, pow_to + 1, modulo) - 1, root, modulo)\n",
    "}\n",
    "\n",
    "assert_eq!(\n",
    "    sum_of_pows(-3, 1, model_in_question.deck),\n",
    "    sum_of_pows_a(-3, 1, model_in_question.deck),\n",
    ");\n",
    "\n",
    "assert_eq!(\n",
    "    sum_of_pows(model_in_question.m, 30, model_in_question.deck),\n",
    "    sum_of_pows_a(model_in_question.m, 30, model_in_question.deck),\n",
    ");\n",
    "\n",
    "sum_of_pows_a(model_in_question.m, 101_741_582_076_660, model_in_question.deck)"
   ]
  },
  {
   "cell_type": "markdown",
   "metadata": {},
   "source": [
    "### Part 2 Mystery, or I Am an Idiot :(\n",
    "\n",
    "In part two you need not to find, where is the card #n, but **what card is it on place #n**...\n",
    "\n",
    "So we have our model ($F(x) = x * M + N$) and we need to solve it for known (found) $M$ and $N$ and $n$ set to 2020.\n",
    "\n",
    "* $F(x) = x \\cdot M + N$\n",
    "* => $x \\cdot M + N = n$\n",
    "* => $x \\cdot M = n - N$\n",
    "* => $x = (n - N) \\cdot M^{-1}$, where $M^{-1}$ is inverse modular root for $M$ in field modulo $D$."
   ]
  }
 ],
 "metadata": {
  "kernelspec": {
   "display_name": "Rust",
   "language": "rust",
   "name": "rust"
  },
  "language_info": {
   "codemirror_mode": "rust",
   "file_extension": ".rs",
   "mimetype": "text/rust",
   "name": "Rust",
   "pygment_lexer": "rust",
   "version": ""
  }
 },
 "nbformat": 4,
 "nbformat_minor": 4
}

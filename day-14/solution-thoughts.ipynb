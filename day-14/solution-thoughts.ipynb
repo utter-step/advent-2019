{
 "cells": [
  {
   "cell_type": "markdown",
   "metadata": {},
   "source": [
    "# Day 14\n",
    "\n",
    "## Part One\n",
    "\n",
    "### Thoughts and observations\n",
    "\n",
    "Example recipe:\n",
    "\n",
    "```\n",
    "10 ORE => 10 A\n",
    "1 ORE => 1 B\n",
    "7 A, 1 B => 1 C\n",
    "7 A, 1 C => 1 D\n",
    "7 A, 1 D => 1 E\n",
    "7 A, 1 E => 1 FUEL\n",
    "```\n",
    "\n",
    "Let's try making map `Target => [(count_to_be, needed_sources), ...]`:"
   ]
  },
  {
   "cell_type": "code",
   "execution_count": 25,
   "metadata": {},
   "outputs": [
    {
     "ename": "Error",
     "evalue": "the name `Map` is defined multiple times",
     "output_type": "error",
     "traceback": [
      "    collections::HashMap as Map,",
      "\u001b[91m    ^^^^^^^^^^^^^^^^^^^^^^^^^^^\u001b[0m \u001b[94m`Map` reimported here\u001b[0m",
      "        HashMap as Map,",
      "\u001b[91m        ^^^^^^^^^^^^^^\u001b[0m \u001b[94mprevious import of the type `Map` here\u001b[0m",
      "the name `Map` is defined multiple times"
     ]
    },
    {
     "ename": "Error",
     "evalue": "the name `TryFrom` is defined multiple times",
     "output_type": "error",
     "traceback": [
      "    convert::TryFrom,",
      "\u001b[91m    ^^^^^^^^^^^^^^^^\u001b[0m \u001b[94m`TryFrom` reimported here\u001b[0m",
      "    convert::TryFrom,",
      "\u001b[91m    ^^^^^^^^^^^^^^^^\u001b[0m \u001b[94mprevious import of the trait `TryFrom` here\u001b[0m",
      "the name `TryFrom` is defined multiple times"
     ]
    },
    {
     "ename": "Error",
     "evalue": "the name `FromStr` is defined multiple times",
     "output_type": "error",
     "traceback": [
      "    str::FromStr,",
      "\u001b[91m    ^^^^^^^^^^^^\u001b[0m \u001b[94m`FromStr` reimported here\u001b[0m",
      "    str::FromStr,",
      "\u001b[91m    ^^^^^^^^^^^^\u001b[0m \u001b[94mprevious import of the trait `FromStr` here\u001b[0m",
      "the name `FromStr` is defined multiple times"
     ]
    },
    {
     "ename": "Error",
     "evalue": "no field `target` on type `&std::vec::Vec<Reaction<'_>>`",
     "output_type": "error",
     "traceback": [
      "        let coeff = count / reaction.target.count + if count % reaction.target.count > 0 { 1 } else { 0 };",
      "\u001b[91m                                     ^^^^^^\u001b[0m \u001b[94munknown field\u001b[0m",
      "no field `target` on type `&std::vec::Vec<Reaction<'_>>`"
     ]
    },
    {
     "ename": "Error",
     "evalue": "no field `target` on type `&std::vec::Vec<Reaction<'_>>`",
     "output_type": "error",
     "traceback": [
      "        let coeff = count / reaction.target.count + if count % reaction.target.count > 0 { 1 } else { 0 };",
      "\u001b[91m                                                                        ^^^^^^\u001b[0m \u001b[94munknown field\u001b[0m",
      "no field `target` on type `&std::vec::Vec<Reaction<'_>>`"
     ]
    },
    {
     "ename": "Error",
     "evalue": "no field `sources` on type `&std::vec::Vec<Reaction<'_>>`",
     "output_type": "error",
     "traceback": [
      "        for req in reaction.sources.iter() {",
      "\u001b[91m                            ^^^^^^^\u001b[0m \u001b[94munknown field\u001b[0m",
      "no field `sources` on type `&std::vec::Vec<Reaction<'_>>`"
     ]
    }
   ],
   "source": [
    "use std::{\n",
    "    collections::{\n",
    "        HashMap as Map,\n",
    "        HashSet as Set,\n",
    "    },\n",
    "    convert::TryFrom,\n",
    "    str::FromStr,\n",
    "};\n",
    "\n",
    "#[derive(Debug)]\n",
    "struct Material<'a> {\n",
    "    count: usize,\n",
    "    name: &'a str,\n",
    "}\n",
    "\n",
    "#[derive(Debug)]\n",
    "struct Reaction<'a> {\n",
    "    sources: Vec<Material<'a>>,\n",
    "    target: Material<'a>,\n",
    "}\n",
    "\n",
    "#[derive(Debug)]\n",
    "struct InvalidFormat;\n",
    "\n",
    "impl<'a> TryFrom<&'a str> for Material<'a> {\n",
    "    type Error = InvalidFormat;\n",
    "    \n",
    "    fn try_from(s: &'a str) -> Result<Self, Self::Error> {\n",
    "        let mut splitted = s.split(' ');\n",
    "        let count = splitted\n",
    "            .next()\n",
    "            .ok_or(InvalidFormat)?\n",
    "            .parse()\n",
    "            .map_err(|_| InvalidFormat)?;\n",
    "        \n",
    "        let name = splitted\n",
    "            .next()\n",
    "            .ok_or(InvalidFormat)?;\n",
    "        \n",
    "        Ok(Self { count, name })\n",
    "    }\n",
    "}\n",
    "\n",
    "impl<'a> TryFrom<&'a str> for Reaction<'a> {\n",
    "    type Error = InvalidFormat;\n",
    "    \n",
    "    fn try_from(s: &'a str) -> Result<Self, Self::Error> {\n",
    "        let mut splitted = s.split(\" => \");\n",
    "\n",
    "        let sources = splitted.next().unwrap();\n",
    "        let target = splitted.next().unwrap();\n",
    "\n",
    "        let sources = sources\n",
    "            .split(\", \")\n",
    "            .map(Material::try_from)\n",
    "            .collect::<Result<Vec<Material>, _>>()?;\n",
    "\n",
    "        let target: Material = Material::try_from(target)?;\n",
    "        \n",
    "        Ok(Self { sources, target })\n",
    "    }\n",
    "}\n",
    "\n",
    "fn parse_input<'a>(recipe_str: &'a str) -> Map<&'a str, Vec<Reaction<'a>>> {\n",
    "    let mut map = Map::new();\n",
    "\n",
    "    for line in recipe_str.split('\\n') {\n",
    "        let reaction = Reaction::try_from(line).unwrap();\n",
    "\n",
    "        map\n",
    "            .entry(reaction.target.name)\n",
    "            .or_insert_with(|| Vec::new())\n",
    "            .push(reaction);\n",
    "    }\n",
    "    \n",
    "    map\n",
    "}\n",
    "\n",
    "let recipe = \"10 ORE => 10 A\n",
    "1 ORE => 1 B\n",
    "7 A, 1 B => 1 C\n",
    "7 A, 1 C => 1 D\n",
    "7 A, 1 D => 1 E\n",
    "7 A, 1 E => 1 FUEL\";\n",
    "\n",
    "println!(\"{:#?}\", parse_input(recipe));"
   ]
  },
  {
   "cell_type": "markdown",
   "metadata": {},
   "source": [
    "Let's check if there is any ambiguous recipies (eg. `1 A, 1 B => 1 C; 1 D, 1 E => 2 C`)"
   ]
  },
  {
   "cell_type": "code",
   "execution_count": 15,
   "metadata": {},
   "outputs": [
    {
     "data": {
      "text/plain": [
       "()"
      ]
     },
     "execution_count": 15,
     "metadata": {},
     "output_type": "execute_result"
    }
   ],
   "source": [
    "let recipe = include_str!(\"/home/utterstep/my/advent-2019/day-14/input.txt\").trim();\n",
    "\n",
    "// this is not valid code currently\n",
    "for (material, recipes) in parse_input(recipe).iter().filter(|(_material, recipes)| recipes.len() > 1) {\n",
    "    println!(\"{} can be made from these ingredients: {:#?}\", material, recipes);\n",
    "}"
   ]
  },
  {
   "cell_type": "markdown",
   "metadata": {},
   "source": [
    "Well, that simplifies the scheme a little.\n",
    "\n",
    "Let's try to do some backtracking — get the needed ingredients for the `FUEL`, mark them as needed (taking into account needed quantity), for every one of them let's get their ingredients and repeat this process until we only have `ORE` as requirements.\n",
    "\n",
    "It wouldn't be an optimal solution (in terms of used `ORE` and other materials), but at least it would be some starting point."
   ]
  },
  {
   "cell_type": "code",
   "execution_count": null,
   "metadata": {},
   "outputs": [],
   "source": [
    "// rewrite parser, removing ambigous recipes possibility\n",
    "\n",
    "fn parse_input<'a>(recipe_str: &'a str) -> Map<&'a str, Reaction<'a>> {\n",
    "    let mut map = Map::new();\n",
    "\n",
    "    for line in recipe_str.split('\\n') {\n",
    "        let reaction = Reaction::try_from(line).unwrap();\n",
    "\n",
    "        let prev = map.insert(reaction.target.name, reaction);\n",
    "        \n",
    "        assert!(prev.is_none(), \"ambigous recipe found\")\n",
    "    }\n",
    "    \n",
    "    map\n",
    "}"
   ]
  },
  {
   "cell_type": "markdown",
   "metadata": {},
   "source": [
    "Let's try brute force approach."
   ]
  },
  {
   "cell_type": "code",
   "execution_count": 35,
   "metadata": {},
   "outputs": [
    {
     "data": {
      "text/plain": [
       "41"
      ]
     },
     "execution_count": 35,
     "metadata": {},
     "output_type": "execute_result"
    }
   ],
   "source": [
    "// let's start with simple example\n",
    "\n",
    "let recipe = \"10 ORE => 10 A\n",
    "1 ORE => 1 B\n",
    "7 A, 1 B => 1 C\n",
    "7 A, 1 C => 1 D\n",
    "7 A, 1 D => 1 E\n",
    "7 A, 1 E => 1 FUEL\";\n",
    "\n",
    "fn solve_brute(recipe_str: &str) -> usize {\n",
    "    let recipes_data = parse_input(recipe_str);\n",
    "\n",
    "    const FUEL: &str = \"FUEL\";\n",
    "    const ORE: &str = \"ORE\";\n",
    "\n",
    "    let mut to_resolve = vec![(1, FUEL)];\n",
    "    let mut ore_requirements = 0;\n",
    "\n",
    "    while !to_resolve.is_empty() {\n",
    "        let (count, material) = to_resolve.pop().unwrap();\n",
    "\n",
    "        let reaction = &recipes_data[material];\n",
    "\n",
    "        let coeff = count / reaction.target.count + if count % reaction.target.count > 0 { 1 } else { 0 };\n",
    "\n",
    "        for req in reaction.sources.iter() {\n",
    "            if req.name == ORE {\n",
    "                ore_requirements += req.count * coeff;\n",
    "            } else {\n",
    "                to_resolve.push((req.count * coeff, req.name));\n",
    "            }\n",
    "        }\n",
    "    }\n",
    "\n",
    "    ore_requirements\n",
    "}\n",
    "\n",
    "solve_brute(recipe)"
   ]
  },
  {
   "cell_type": "markdown",
   "metadata": {},
   "source": [
    "Yup :(\n",
    "\n",
    "The correct answer is `31`, but my algorithm yields `41`, because as soon as it sees `7A` it makes an \"order\" for 10A (minimum increment), while correct strategy would be to merge orders for `A`, because they do not rely on each other, and execute them as `7A + 7A + 7A + 7A = 28A` -> `3 * (10 ORE => 10 A)`."
   ]
  },
  {
   "cell_type": "code",
   "execution_count": 66,
   "metadata": {},
   "outputs": [
    {
     "data": {
      "text/plain": [
       "31"
      ]
     },
     "execution_count": 66,
     "metadata": {},
     "output_type": "execute_result"
    }
   ],
   "source": [
    "use std::collections::HashSet as Set;\n",
    "\n",
    "let recipe = \"10 ORE => 10 A\n",
    "1 ORE => 1 B\n",
    "7 A, 1 B => 1 C\n",
    "7 A, 1 C => 1 D\n",
    "7 A, 1 D => 1 E\n",
    "7 A, 1 E => 1 FUEL\";\n",
    "// let recipe = include_str!(\"/home/utterstep/my/advent-2019/day-14/input.txt\").trim();\n",
    "\n",
    "const FUEL: &str = \"FUEL\";\n",
    "const ORE: &str = \"ORE\";\n",
    "\n",
    "fn topological_sort<'a>(recipe: &Map<&'a str, Reaction<'a>>, start: &'a str) -> Vec<&'a str> {\n",
    "    let mut order = vec![];\n",
    "    let mut visited = Set::new();\n",
    "    \n",
    "    fn dfs<'a>(\n",
    "        node: &'a str,\n",
    "        order: &mut Vec<&'a str>,\n",
    "        visited: &mut Set<&'a str>, \n",
    "        recipe: &Map<&'a str, Reaction<'a>>\n",
    "    ) {\n",
    "        if visited.insert(node) {\n",
    "            for source in &recipe[node].sources {\n",
    "                if source.name != ORE {\n",
    "                    dfs(\n",
    "                        source.name,\n",
    "                        order,\n",
    "                        visited,\n",
    "                        recipe,\n",
    "                    );\n",
    "                }\n",
    "            }\n",
    "            \n",
    "            order.push(node);\n",
    "        }\n",
    "    }\n",
    "    \n",
    "    dfs(\n",
    "        start,\n",
    "        &mut order,\n",
    "        &mut visited,\n",
    "        recipe,\n",
    "    );\n",
    "    \n",
    "    order.reverse();\n",
    "    order.push(ORE);\n",
    "    \n",
    "    order\n",
    "}\n",
    "\n",
    "struct SolutionPrecalc<'a> {\n",
    "    recipe_data: Map<&'a str, Reaction<'a>>,\n",
    "    material_order: Vec<&'a str>,\n",
    "}\n",
    "\n",
    "fn get_precalc(recipe_str: &str) -> SolutionPrecalc {\n",
    "    let recipe_data = parse_input(recipe_str);\n",
    "    \n",
    "    let material_order = topological_sort(&recipe_data, FUEL);\n",
    "    \n",
    "    SolutionPrecalc {\n",
    "        recipe_data,\n",
    "        material_order,\n",
    "    }\n",
    "}\n",
    "\n",
    "fn compute_ore_requirements(precalc: &SolutionPrecalc, fuel_required: usize) -> usize {\n",
    "    let mut requirements = Map::new();\n",
    "    requirements.insert(FUEL, fuel_required);\n",
    "\n",
    "    for material in &precalc.material_order {\n",
    "        if let Some(reaction) = precalc.recipe_data.get(material) {\n",
    "            let count = requirements[material];\n",
    "            let coeff = count / reaction.target.count + if count % reaction.target.count > 0 { 1 } else { 0 };\n",
    "\n",
    "            for source in &reaction.sources {\n",
    "                (*requirements.entry(source.name).or_insert(0)) += source.count * coeff;\n",
    "            }\n",
    "        }\n",
    "    }\n",
    "    \n",
    "    requirements[ORE]\n",
    "}\n",
    "\n",
    "fn solve_easy(recipe_str: &str) -> usize {\n",
    "    let precalc = get_precalc(recipe_str);\n",
    "\n",
    "    compute_ore_requirements(&precalc, 1)\n",
    "}\n",
    "\n",
    "solve_easy(recipe)"
   ]
  },
  {
   "cell_type": "markdown",
   "metadata": {},
   "source": [
    "Hooray! Let's check other examples"
   ]
  },
  {
   "cell_type": "code",
   "execution_count": 71,
   "metadata": {},
   "outputs": [
    {
     "name": "stdout",
     "output_type": "stream",
     "text": [
      "Everything is OK!\n"
     ]
    }
   ],
   "source": [
    "const RECIPES: &[(&str, usize)] = &[\n",
    "    (\n",
    "        \"9 ORE => 2 A\n",
    "8 ORE => 3 B\n",
    "7 ORE => 5 C\n",
    "3 A, 4 B => 1 AB\n",
    "5 B, 7 C => 1 BC\n",
    "4 C, 1 A => 1 CA\n",
    "2 AB, 3 BC, 4 CA => 1 FUEL\",\n",
    "        165,\n",
    "    ),\n",
    "    (\n",
    "        \"157 ORE => 5 NZVS\n",
    "165 ORE => 6 DCFZ\n",
    "44 XJWVT, 5 KHKGT, 1 QDVJ, 29 NZVS, 9 GPVTF, 48 HKGWZ => 1 FUEL\n",
    "12 HKGWZ, 1 GPVTF, 8 PSHF => 9 QDVJ\n",
    "179 ORE => 7 PSHF\n",
    "177 ORE => 5 HKGWZ\n",
    "7 DCFZ, 7 PSHF => 2 XJWVT\n",
    "165 ORE => 2 GPVTF\n",
    "3 DCFZ, 7 NZVS, 5 HKGWZ, 10 PSHF => 8 KHKGT\",\n",
    "        13312,\n",
    "    ),\n",
    "    (\n",
    "        \"2 VPVL, 7 FWMGM, 2 CXFTF, 11 MNCFX => 1 STKFG\n",
    "17 NVRVD, 3 JNWZP => 8 VPVL\n",
    "53 STKFG, 6 MNCFX, 46 VJHF, 81 HVMC, 68 CXFTF, 25 GNMV => 1 FUEL\n",
    "22 VJHF, 37 MNCFX => 5 FWMGM\n",
    "139 ORE => 4 NVRVD\n",
    "144 ORE => 7 JNWZP\n",
    "5 MNCFX, 7 RFSQX, 2 FWMGM, 2 VPVL, 19 CXFTF => 3 HVMC\n",
    "5 VJHF, 7 MNCFX, 9 VPVL, 37 CXFTF => 6 GNMV\n",
    "145 ORE => 6 MNCFX\n",
    "1 NVRVD => 8 CXFTF\n",
    "1 VJHF, 6 MNCFX => 4 RFSQX\n",
    "176 ORE => 6 VJHF\",\n",
    "        180697,\n",
    "    ),\n",
    "    (\n",
    "        \"171 ORE => 8 CNZTR\n",
    "7 ZLQW, 3 BMBT, 9 XCVML, 26 XMNCP, 1 WPTQ, 2 MZWV, 1 RJRHP => 4 PLWSL\n",
    "114 ORE => 4 BHXH\n",
    "14 VRPVC => 6 BMBT\n",
    "6 BHXH, 18 KTJDG, 12 WPTQ, 7 PLWSL, 31 FHTLT, 37 ZDVW => 1 FUEL\n",
    "6 WPTQ, 2 BMBT, 8 ZLQW, 18 KTJDG, 1 XMNCP, 6 MZWV, 1 RJRHP => 6 FHTLT\n",
    "15 XDBXC, 2 LTCX, 1 VRPVC => 6 ZLQW\n",
    "13 WPTQ, 10 LTCX, 3 RJRHP, 14 XMNCP, 2 MZWV, 1 ZLQW => 1 ZDVW\n",
    "5 BMBT => 4 WPTQ\n",
    "189 ORE => 9 KTJDG\n",
    "1 MZWV, 17 XDBXC, 3 XCVML => 2 XMNCP\n",
    "12 VRPVC, 27 CNZTR => 2 XDBXC\n",
    "15 KTJDG, 12 BHXH => 5 XCVML\n",
    "3 BHXH, 2 VRPVC => 7 MZWV\n",
    "121 ORE => 7 VRPVC\n",
    "7 XCVML => 6 RJRHP\n",
    "5 BHXH, 4 VRPVC => 5 LTCX\",\n",
    "        2210736,\n",
    "    )\n",
    "];\n",
    "\n",
    "for (recipe, required) in recipes {\n",
    "    assert_eq!(solve_easy(recipe), *required);\n",
    "}\n",
    "\n",
    "println!(\"Everything is OK!\");"
   ]
  },
  {
   "cell_type": "code",
   "execution_count": 72,
   "metadata": {},
   "outputs": [
    {
     "data": {
      "text/plain": [
       "628586"
      ]
     },
     "execution_count": 72,
     "metadata": {},
     "output_type": "execute_result"
    }
   ],
   "source": [
    "// let's solve the task!\n",
    "\n",
    "let recipe = include_str!(\"/home/utterstep/my/advent-2019/day-14/input.txt\").trim();\n",
    "\n",
    "solve_easy(recipe)"
   ]
  },
  {
   "cell_type": "markdown",
   "metadata": {},
   "source": [
    "### Part Two\n",
    "\n",
    "After collecting `ORE` for a while, you check your cargo hold: 1 trillion (1000000000000) units of `ORE`.\n",
    "\n",
    "With that much ore, given the examples above:\n",
    "\n",
    "    The 13312 ORE-per-FUEL example could produce 82892753 FUEL.\n",
    "    The 180697 ORE-per-FUEL example could produce 5586022 FUEL.\n",
    "    The 2210736 ORE-per-FUEL example could produce 460664 FUEL.\n",
    "\n",
    "Given 1 trillion `ORE`, what is the maximum amount of `FUEL` you can produce?"
   ]
  },
  {
   "cell_type": "code",
   "execution_count": 78,
   "metadata": {},
   "outputs": [
    {
     "data": {
      "text/plain": [
       "3209254"
      ]
     },
     "execution_count": 78,
     "metadata": {},
     "output_type": "execute_result"
    }
   ],
   "source": [
    "const ORE_CARGO: usize = 1_000_000_000_000;\n",
    "\n",
    "fn solve_hard(recipe_str: &str) -> usize {\n",
    "    let mut hi = ORE_CARGO;\n",
    "    let mut lo = 1;\n",
    "    \n",
    "    let precalc = get_precalc(recipe_str);\n",
    "    \n",
    "    loop {\n",
    "        let mid = (hi + lo) / 2;\n",
    "        let required_ore = compute_ore_requirements(&precalc, mid);\n",
    "        \n",
    "        if required_ore > ORE_CARGO {\n",
    "            hi = mid - 1;\n",
    "        } else if required_ore < ORE_CARGO {\n",
    "            lo = mid;\n",
    "        } else {\n",
    "            return mid;\n",
    "        }\n",
    "        \n",
    "        if hi - lo <= 1 {\n",
    "            return lo;\n",
    "        }\n",
    "    }\n",
    "}\n",
    "\n",
    "solve_hard(recipe)"
   ]
  },
  {
   "cell_type": "markdown",
   "metadata": {},
   "source": [
    "Ta-da!"
   ]
  }
 ],
 "metadata": {
  "kernelspec": {
   "display_name": "Rust",
   "language": "rust",
   "name": "rust"
  },
  "language_info": {
   "codemirror_mode": "rust",
   "file_extension": ".rs",
   "mimetype": "text/rust",
   "name": "Rust",
   "pygment_lexer": "rust",
   "version": ""
  }
 },
 "nbformat": 4,
 "nbformat_minor": 4
}
